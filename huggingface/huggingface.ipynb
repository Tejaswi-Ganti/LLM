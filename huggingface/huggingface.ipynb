{
 "cells": [
  {
   "cell_type": "code",
   "execution_count": 1,
   "metadata": {},
   "outputs": [],
   "source": [
    "from langchain_community.document_loaders import PyPDFLoader\n",
    "from langchain_community.document_loaders import PyPDFDirectoryLoader\n",
    "from langchain.text_splitter import RecursiveCharacterTextSplitter\n",
    "from langchain_community.vectorstores import FAISS\n",
    "\n",
    "from langchain_community.embeddings import HuggingFaceBgeEmbeddings\n",
    "from langchain.prompts import PromptTemplate\n",
    "\n",
    "from langchain.chains import RetrievalQA\n"
   ]
  },
  {
   "cell_type": "code",
   "execution_count": 2,
   "metadata": {},
   "outputs": [
    {
     "data": {
      "text/plain": [
       "Document(page_content='Health Insurance Coverage Status and Type \\nby Geography: 2021 and 2022\\nAmerican Community Survey Briefs\\nACSBR-015Issued September 2023Douglas Conway and Breauna Branch\\nINTRODUCTION\\nDemographic shifts as well as economic and govern-\\nment policy changes can affect people’s access to health coverage. For example, between 2021 and 2022, the labor market continued to improve, which may have affected private coverage in the United States \\nduring that time.\\n1 Public policy changes included \\nthe renewal of the Public Health Emergency, which \\nallowed Medicaid enrollees to remain covered under the Continuous Enrollment Provision.\\n2 The American \\nRescue Plan (ARP) enhanced Marketplace premium subsidies for those with incomes above 400 percent of the poverty level as well as for unemployed people.\\n3', metadata={'source': 'us_census\\\\acsbr-015.pdf', 'page': 0})"
      ]
     },
     "execution_count": 2,
     "metadata": {},
     "output_type": "execute_result"
    }
   ],
   "source": [
    "###Read the pdf from the folder\n",
    "\n",
    "loader = PyPDFDirectoryLoader(\"./us_census\")\n",
    "documents = loader.load()\n",
    "\n",
    "text_splitter = RecursiveCharacterTextSplitter(chunk_size=1000,chunk_overlap=200)\n",
    "\n",
    "final_documents=text_splitter.split_documents(documents)\n",
    "final_documents[0]"
   ]
  },
  {
   "cell_type": "code",
   "execution_count": null,
   "metadata": {},
   "outputs": [],
   "source": []
  },
  {
   "cell_type": "code",
   "execution_count": 3,
   "metadata": {},
   "outputs": [
    {
     "data": {
      "text/plain": [
       "316"
      ]
     },
     "execution_count": 3,
     "metadata": {},
     "output_type": "execute_result"
    }
   ],
   "source": [
    "len(final_documents)"
   ]
  },
  {
   "cell_type": "code",
   "execution_count": 4,
   "metadata": {},
   "outputs": [
    {
     "name": "stdout",
     "output_type": "stream",
     "text": [
      "Requirement already satisfied: transformers in c:\\users\\tejaswi\\anaconda3\\envs\\venv\\lib\\site-packages (4.29.0)\n",
      "Requirement already satisfied: filelock in c:\\users\\tejaswi\\anaconda3\\envs\\venv\\lib\\site-packages (from transformers) (3.14.0)\n",
      "Requirement already satisfied: huggingface-hub<1.0,>=0.11.0 in c:\\users\\tejaswi\\anaconda3\\envs\\venv\\lib\\site-packages (from transformers) (0.23.1)\n",
      "Requirement already satisfied: numpy>=1.17 in c:\\users\\tejaswi\\anaconda3\\envs\\venv\\lib\\site-packages (from transformers) (1.26.4)\n",
      "Requirement already satisfied: packaging>=20.0 in c:\\users\\tejaswi\\anaconda3\\envs\\venv\\lib\\site-packages (from transformers) (23.2)\n",
      "Requirement already satisfied: pyyaml>=5.1 in c:\\users\\tejaswi\\anaconda3\\envs\\venv\\lib\\site-packages (from transformers) (6.0.1)\n",
      "Requirement already satisfied: regex!=2019.12.17 in c:\\users\\tejaswi\\anaconda3\\envs\\venv\\lib\\site-packages (from transformers) (2024.5.15)\n",
      "Requirement already satisfied: requests in c:\\users\\tejaswi\\anaconda3\\envs\\venv\\lib\\site-packages (from transformers) (2.31.0)\n",
      "Requirement already satisfied: tokenizers!=0.11.3,<0.14,>=0.11.1 in c:\\users\\tejaswi\\anaconda3\\envs\\venv\\lib\\site-packages (from transformers) (0.13.3)\n",
      "Requirement already satisfied: tqdm>=4.27 in c:\\users\\tejaswi\\anaconda3\\envs\\venv\\lib\\site-packages (from transformers) (4.66.4)\n",
      "Requirement already satisfied: fsspec>=2023.5.0 in c:\\users\\tejaswi\\anaconda3\\envs\\venv\\lib\\site-packages (from huggingface-hub<1.0,>=0.11.0->transformers) (2024.3.1)\n",
      "Requirement already satisfied: typing-extensions>=3.7.4.3 in c:\\users\\tejaswi\\anaconda3\\envs\\venv\\lib\\site-packages (from huggingface-hub<1.0,>=0.11.0->transformers) (4.11.0)\n",
      "Requirement already satisfied: colorama in c:\\users\\tejaswi\\anaconda3\\envs\\venv\\lib\\site-packages (from tqdm>=4.27->transformers) (0.4.6)\n",
      "Requirement already satisfied: charset-normalizer<4,>=2 in c:\\users\\tejaswi\\anaconda3\\envs\\venv\\lib\\site-packages (from requests->transformers) (3.3.2)\n",
      "Requirement already satisfied: idna<4,>=2.5 in c:\\users\\tejaswi\\anaconda3\\envs\\venv\\lib\\site-packages (from requests->transformers) (3.7)\n",
      "Requirement already satisfied: urllib3<3,>=1.21.1 in c:\\users\\tejaswi\\anaconda3\\envs\\venv\\lib\\site-packages (from requests->transformers) (2.2.1)\n",
      "Requirement already satisfied: certifi>=2017.4.17 in c:\\users\\tejaswi\\anaconda3\\envs\\venv\\lib\\site-packages (from requests->transformers) (2024.2.2)\n",
      "Requirement already satisfied: datasets in c:\\users\\tejaswi\\anaconda3\\envs\\venv\\lib\\site-packages (2.19.1)\n",
      "Requirement already satisfied: filelock in c:\\users\\tejaswi\\anaconda3\\envs\\venv\\lib\\site-packages (from datasets) (3.14.0)\n",
      "Requirement already satisfied: numpy>=1.17 in c:\\users\\tejaswi\\anaconda3\\envs\\venv\\lib\\site-packages (from datasets) (1.26.4)\n",
      "Requirement already satisfied: pyarrow>=12.0.0 in c:\\users\\tejaswi\\anaconda3\\envs\\venv\\lib\\site-packages (from datasets) (16.1.0)\n",
      "Requirement already satisfied: pyarrow-hotfix in c:\\users\\tejaswi\\anaconda3\\envs\\venv\\lib\\site-packages (from datasets) (0.6)\n",
      "Requirement already satisfied: dill<0.3.9,>=0.3.0 in c:\\users\\tejaswi\\anaconda3\\envs\\venv\\lib\\site-packages (from datasets) (0.3.8)\n",
      "Requirement already satisfied: pandas in c:\\users\\tejaswi\\anaconda3\\envs\\venv\\lib\\site-packages (from datasets) (2.2.2)\n",
      "Requirement already satisfied: requests>=2.19.0 in c:\\users\\tejaswi\\anaconda3\\envs\\venv\\lib\\site-packages (from datasets) (2.31.0)\n",
      "Requirement already satisfied: tqdm>=4.62.1 in c:\\users\\tejaswi\\anaconda3\\envs\\venv\\lib\\site-packages (from datasets) (4.66.4)\n",
      "Requirement already satisfied: xxhash in c:\\users\\tejaswi\\anaconda3\\envs\\venv\\lib\\site-packages (from datasets) (3.4.1)\n",
      "Requirement already satisfied: multiprocess in c:\\users\\tejaswi\\anaconda3\\envs\\venv\\lib\\site-packages (from datasets) (0.70.16)\n",
      "Requirement already satisfied: fsspec<=2024.3.1,>=2023.1.0 in c:\\users\\tejaswi\\anaconda3\\envs\\venv\\lib\\site-packages (from fsspec[http]<=2024.3.1,>=2023.1.0->datasets) (2024.3.1)\n",
      "Requirement already satisfied: aiohttp in c:\\users\\tejaswi\\anaconda3\\envs\\venv\\lib\\site-packages (from datasets) (3.9.5)\n",
      "Requirement already satisfied: huggingface-hub>=0.21.2 in c:\\users\\tejaswi\\anaconda3\\envs\\venv\\lib\\site-packages (from datasets) (0.23.1)\n",
      "Requirement already satisfied: packaging in c:\\users\\tejaswi\\anaconda3\\envs\\venv\\lib\\site-packages (from datasets) (23.2)\n",
      "Requirement already satisfied: pyyaml>=5.1 in c:\\users\\tejaswi\\anaconda3\\envs\\venv\\lib\\site-packages (from datasets) (6.0.1)\n",
      "Requirement already satisfied: aiosignal>=1.1.2 in c:\\users\\tejaswi\\anaconda3\\envs\\venv\\lib\\site-packages (from aiohttp->datasets) (1.3.1)\n",
      "Requirement already satisfied: attrs>=17.3.0 in c:\\users\\tejaswi\\anaconda3\\envs\\venv\\lib\\site-packages (from aiohttp->datasets) (23.2.0)\n",
      "Requirement already satisfied: frozenlist>=1.1.1 in c:\\users\\tejaswi\\anaconda3\\envs\\venv\\lib\\site-packages (from aiohttp->datasets) (1.4.1)\n",
      "Requirement already satisfied: multidict<7.0,>=4.5 in c:\\users\\tejaswi\\anaconda3\\envs\\venv\\lib\\site-packages (from aiohttp->datasets) (6.0.5)\n",
      "Requirement already satisfied: yarl<2.0,>=1.0 in c:\\users\\tejaswi\\anaconda3\\envs\\venv\\lib\\site-packages (from aiohttp->datasets) (1.9.4)\n",
      "Requirement already satisfied: async-timeout<5.0,>=4.0 in c:\\users\\tejaswi\\anaconda3\\envs\\venv\\lib\\site-packages (from aiohttp->datasets) (4.0.3)\n",
      "Requirement already satisfied: typing-extensions>=3.7.4.3 in c:\\users\\tejaswi\\anaconda3\\envs\\venv\\lib\\site-packages (from huggingface-hub>=0.21.2->datasets) (4.11.0)\n",
      "Requirement already satisfied: charset-normalizer<4,>=2 in c:\\users\\tejaswi\\anaconda3\\envs\\venv\\lib\\site-packages (from requests>=2.19.0->datasets) (3.3.2)\n",
      "Requirement already satisfied: idna<4,>=2.5 in c:\\users\\tejaswi\\anaconda3\\envs\\venv\\lib\\site-packages (from requests>=2.19.0->datasets) (3.7)\n",
      "Requirement already satisfied: urllib3<3,>=1.21.1 in c:\\users\\tejaswi\\anaconda3\\envs\\venv\\lib\\site-packages (from requests>=2.19.0->datasets) (2.2.1)\n",
      "Requirement already satisfied: certifi>=2017.4.17 in c:\\users\\tejaswi\\anaconda3\\envs\\venv\\lib\\site-packages (from requests>=2.19.0->datasets) (2024.2.2)\n",
      "Requirement already satisfied: colorama in c:\\users\\tejaswi\\anaconda3\\envs\\venv\\lib\\site-packages (from tqdm>=4.62.1->datasets) (0.4.6)\n",
      "Requirement already satisfied: python-dateutil>=2.8.2 in c:\\users\\tejaswi\\anaconda3\\envs\\venv\\lib\\site-packages (from pandas->datasets) (2.9.0)\n",
      "Requirement already satisfied: pytz>=2020.1 in c:\\users\\tejaswi\\anaconda3\\envs\\venv\\lib\\site-packages (from pandas->datasets) (2024.1)\n",
      "Requirement already satisfied: tzdata>=2022.7 in c:\\users\\tejaswi\\anaconda3\\envs\\venv\\lib\\site-packages (from pandas->datasets) (2024.1)\n",
      "Requirement already satisfied: six>=1.5 in c:\\users\\tejaswi\\anaconda3\\envs\\venv\\lib\\site-packages (from python-dateutil>=2.8.2->pandas->datasets) (1.16.0)\n",
      "Requirement already satisfied: tokenizers in c:\\users\\tejaswi\\anaconda3\\envs\\venv\\lib\\site-packages (0.13.3)\n"
     ]
    }
   ],
   "source": [
    "!pip install transformers\n",
    "!pip install datasets\n",
    "!pip install tokenizers\n"
   ]
  },
  {
   "cell_type": "code",
   "execution_count": 5,
   "metadata": {},
   "outputs": [
    {
     "name": "stderr",
     "output_type": "stream",
     "text": [
      "c:\\Users\\Tejaswi\\anaconda3\\envs\\venv\\lib\\site-packages\\tqdm\\auto.py:21: TqdmWarning: IProgress not found. Please update jupyter and ipywidgets. See https://ipywidgets.readthedocs.io/en/stable/user_install.html\n",
      "  from .autonotebook import tqdm as notebook_tqdm\n"
     ]
    }
   ],
   "source": [
    "###Embedding Using HuggingFace\n",
    "# !pip install sentence-transformers==2.2.2 transformers==4.29.0\n",
    "# import sentence_transformers\n",
    "# from transformers import pipeline\n",
    "# !pip install torch torchvision torchaudio\n",
    "\n",
    "# import sentence_transformers\n",
    "\n",
    "huggingface_embeddings = HuggingFaceBgeEmbeddings(\n",
    "    model_name=\"BAAI/bge-small-en-v1.5\",\n",
    "    model_kwargs={'device':'cpu'},\n",
    "    encode_kwargs={'normalize_embeddings':True}\n",
    ")"
   ]
  },
  {
   "cell_type": "code",
   "execution_count": 6,
   "metadata": {},
   "outputs": [
    {
     "data": {
      "text/plain": [
       "array([-8.46568495e-02, -1.19099235e-02, -3.37892547e-02,  2.94559300e-02,\n",
       "        5.19159660e-02,  5.73839657e-02, -4.10017818e-02,  2.74268147e-02,\n",
       "       -1.05128251e-01, -1.58055983e-02,  7.94858858e-02,  5.64318560e-02,\n",
       "       -1.31765436e-02, -3.41544151e-02,  5.81603963e-03,  4.72547971e-02,\n",
       "       -1.30746774e-02,  3.12994118e-03, -3.44225690e-02,  3.08406353e-02,\n",
       "       -4.09086123e-02,  3.52737904e-02, -2.43761614e-02, -4.35831137e-02,\n",
       "        2.41503343e-02,  1.31986756e-02, -4.84449510e-03,  1.92347802e-02,\n",
       "       -5.43912724e-02, -1.42735004e-01,  5.15527744e-03,  2.93115862e-02,\n",
       "       -5.60810827e-02, -8.53535347e-03,  3.14141214e-02,  2.76736505e-02,\n",
       "       -2.06188280e-02,  8.24231580e-02,  4.15425487e-02,  5.79655319e-02,\n",
       "       -3.71587314e-02,  6.26160810e-03, -2.41390206e-02, -5.61793055e-03,\n",
       "       -2.51715314e-02,  5.04968036e-03, -2.52801031e-02, -2.91945622e-03,\n",
       "       -8.24047904e-03, -5.69604486e-02,  2.30822880e-02, -5.54219075e-03,\n",
       "        5.11555299e-02,  6.09937869e-02,  6.49766177e-02, -5.38514033e-02,\n",
       "        2.19109561e-02, -2.54194364e-02, -4.49223034e-02,  4.22459170e-02,\n",
       "        4.75252122e-02,  7.23253703e-04, -2.61084557e-01,  9.30173099e-02,\n",
       "        1.13597596e-02,  4.90668975e-02, -1.06287031e-02, -8.08732398e-03,\n",
       "       -1.53562361e-02, -5.33786044e-02, -6.89967051e-02,  4.75178435e-02,\n",
       "       -5.68595938e-02,  9.38641001e-03,  4.24065702e-02,  2.54346672e-02,\n",
       "        9.67095140e-03,  7.90801086e-03,  2.25161258e-02,  1.91009208e-03,\n",
       "        3.06091849e-02,  2.43992005e-02, -1.34115284e-02, -4.77401242e-02,\n",
       "        4.89939824e-02, -9.49416161e-02,  5.62894046e-02, -4.76260893e-02,\n",
       "        2.81447284e-02, -2.54329592e-02, -3.84951197e-02,  1.00940047e-02,\n",
       "        1.90549734e-04,  3.36625353e-02,  1.00181941e-02,  2.83524115e-02,\n",
       "       -2.68965471e-03, -6.96361298e-03, -3.54914777e-02,  3.42758864e-01,\n",
       "       -1.94496829e-02,  1.43988188e-02, -5.68818394e-03,  1.71481278e-02,\n",
       "       -2.88608042e-03, -5.81653118e-02,  6.35169796e-04,  5.17300330e-03,\n",
       "        2.06331443e-02,  1.65708065e-02,  2.15096511e-02, -2.38796044e-02,\n",
       "        2.89275441e-02,  4.67319153e-02, -3.56104746e-02, -1.05078891e-02,\n",
       "        3.70704420e-02,  1.57502554e-02,  9.43095535e-02, -2.50715315e-02,\n",
       "       -9.55961831e-03,  1.78565718e-02, -9.41780582e-03, -4.57858741e-02,\n",
       "        1.82930529e-02,  5.81431761e-02,  4.94311079e-02,  1.46350682e-01,\n",
       "        2.16057803e-02, -3.92896086e-02,  1.03241287e-01, -3.48300263e-02,\n",
       "       -6.61871955e-03,  7.07986066e-03,  9.26929875e-04,  4.49866056e-03,\n",
       "       -2.89777573e-02,  4.02419120e-02, -5.23191690e-03,  4.59961966e-02,\n",
       "        4.23974777e-03, -4.83792787e-03, -3.23240226e-03, -1.41072929e-01,\n",
       "       -3.76811475e-02,  1.83623865e-01, -2.96609309e-02,  4.90660295e-02,\n",
       "        3.90551873e-02, -1.57757550e-02, -3.86351198e-02,  4.65631150e-02,\n",
       "       -2.43485793e-02,  3.57695110e-02, -3.54947560e-02,  2.36265957e-02,\n",
       "       -3.41980718e-04,  3.11703589e-02, -2.39356514e-02, -5.94757795e-02,\n",
       "        6.06259517e-02, -3.81902270e-02, -7.04255402e-02,  1.42479576e-02,\n",
       "        3.34432162e-02, -3.85254771e-02, -1.71951205e-02, -7.12288469e-02,\n",
       "        2.64976081e-02,  1.09496322e-02,  1.32650528e-02,  3.89527716e-02,\n",
       "        1.60355195e-02, -3.17630433e-02,  1.02013730e-01,  2.92912386e-02,\n",
       "       -2.29205657e-02, -8.38053692e-03, -1.72172543e-02, -6.78820387e-02,\n",
       "        5.39416121e-03, -2.32347399e-02, -6.07406907e-02, -3.86575758e-02,\n",
       "       -1.54306851e-02, -3.84983383e-02, -5.02867699e-02,  5.04235253e-02,\n",
       "        4.94897924e-02, -1.41083319e-02, -2.98144878e-03,  9.76383380e-05,\n",
       "       -6.59190118e-02,  3.01006772e-02, -5.46602998e-04, -1.64788030e-02,\n",
       "       -5.21614850e-02, -3.30225774e-03,  4.75748330e-02, -3.40808593e-02,\n",
       "       -2.98660398e-02,  2.75014993e-02,  5.90204727e-03, -2.64042127e-03,\n",
       "       -1.61242634e-02,  2.05222387e-02,  1.21104969e-02, -5.49782217e-02,\n",
       "        5.10389656e-02, -7.92088080e-03,  7.25203380e-03,  3.51751372e-02,\n",
       "        3.66276577e-02,  5.67718584e-04,  2.60788351e-02,  2.50971280e-02,\n",
       "        1.14481226e-02, -2.54924931e-02,  1.96417682e-02,  2.84220353e-02,\n",
       "        2.82553975e-02,  6.57489598e-02,  9.26554278e-02, -2.68629640e-01,\n",
       "       -8.90553871e-04,  3.16915475e-03,  5.08356746e-03, -6.42100722e-02,\n",
       "       -4.56614792e-02, -4.62259911e-02,  3.60924639e-02,  8.29055067e-03,\n",
       "        8.92349109e-02,  5.68022020e-02,  6.91057695e-03, -1.08683966e-02,\n",
       "        9.36060548e-02,  1.03680668e-02, -8.60929787e-02,  1.77331995e-02,\n",
       "       -2.00802572e-02, -1.85125023e-02,  5.62418310e-04, -9.38338321e-03,\n",
       "        7.76059926e-03, -5.37273847e-02, -2.30028089e-02,  7.48890713e-02,\n",
       "       -1.29692890e-02,  6.53716773e-02, -4.24982905e-02, -7.10293874e-02,\n",
       "       -1.56803653e-02, -6.23028465e-02,  5.36034554e-02, -6.53214753e-03,\n",
       "       -1.15985490e-01,  6.70967996e-02,  1.93366800e-02, -6.67827800e-02,\n",
       "       -2.01754505e-03, -6.27636611e-02, -2.95005161e-02, -2.71986630e-02,\n",
       "        4.49796729e-02, -6.61587268e-02,  2.13750899e-02, -2.94077769e-02,\n",
       "       -5.71503267e-02,  4.05282564e-02,  7.11039454e-02, -6.80165216e-02,\n",
       "        2.11908612e-02,  1.30515303e-02, -2.91152615e-02, -2.25581396e-02,\n",
       "       -1.60188675e-02,  3.20554115e-02, -5.89460433e-02, -2.97131818e-02,\n",
       "        3.42681780e-02, -1.58376060e-02, -9.31767467e-03,  3.59834284e-02,\n",
       "        3.65339639e-03,  4.73319739e-02, -1.06235370e-02, -8.69733468e-03,\n",
       "       -4.38010022e-02,  5.94558381e-03, -2.41493378e-02, -7.79940560e-02,\n",
       "        1.46542313e-02,  1.05613908e-02,  5.45365363e-02, -3.17897126e-02,\n",
       "       -1.26762902e-02,  7.92557746e-03, -1.38133122e-02,  5.01396768e-02,\n",
       "       -7.28573184e-03, -5.23702335e-03, -5.32640778e-02,  4.78208438e-02,\n",
       "       -5.38353808e-02,  1.11437580e-02,  3.96674015e-02, -1.93496142e-02,\n",
       "        9.94822383e-03, -3.53478151e-03,  3.58561263e-03, -9.61500406e-03,\n",
       "        2.15324126e-02, -1.82350110e-02, -2.15188526e-02, -1.38835600e-02,\n",
       "       -1.76699143e-02,  3.37956852e-04, -3.84814863e-04, -2.25800529e-01,\n",
       "        4.51242924e-02,  1.53376888e-02, -1.76967531e-02, -1.42526105e-02,\n",
       "       -7.00281328e-03, -3.13725062e-02,  2.13675573e-03, -9.28345975e-03,\n",
       "       -1.66986901e-02,  4.66264486e-02,  7.71809146e-02,  1.26696959e-01,\n",
       "       -1.83595475e-02, -1.39636882e-02, -1.23302196e-03,  5.93339428e-02,\n",
       "       -1.37460814e-03,  1.98233128e-02, -2.92635858e-02,  4.96656261e-02,\n",
       "       -6.07207417e-02,  1.53544754e-01, -4.67309393e-02,  1.97028723e-02,\n",
       "       -7.67833591e-02, -7.73228472e-03,  3.71618420e-02, -3.00591085e-02,\n",
       "        8.30264110e-03,  2.06258856e-02,  1.97466114e-03,  3.39764543e-02,\n",
       "       -1.70869436e-02,  4.84796204e-02,  1.20781837e-02,  1.24999471e-02,\n",
       "        5.61724454e-02,  9.88544710e-03,  2.13879105e-02, -4.25293781e-02,\n",
       "       -1.94036998e-02,  2.47838181e-02,  1.37260808e-02,  6.41119480e-02,\n",
       "       -2.84480769e-02, -4.64116335e-02, -5.36255203e-02, -6.95316921e-05,\n",
       "        6.45710304e-02, -4.32030298e-04, -1.32470606e-02,  5.85135538e-03,\n",
       "        1.48595721e-02, -5.41847236e-02, -2.02038419e-02, -5.98262660e-02,\n",
       "        3.67028974e-02,  1.43321371e-03, -8.64462275e-03,  2.90671606e-02,\n",
       "        4.38365750e-02, -7.64942542e-02,  1.55717814e-02,  6.65831044e-02])"
      ]
     },
     "execution_count": 6,
     "metadata": {},
     "output_type": "execute_result"
    }
   ],
   "source": [
    "import numpy as np\n",
    "np.array(huggingface_embeddings.embed_query(final_documents[0].page_content))"
   ]
  },
  {
   "cell_type": "code",
   "execution_count": null,
   "metadata": {},
   "outputs": [],
   "source": [
    "\n",
    "\n"
   ]
  },
  {
   "cell_type": "code",
   "execution_count": null,
   "metadata": {},
   "outputs": [],
   "source": []
  }
 ],
 "metadata": {
  "kernelspec": {
   "display_name": "venv",
   "language": "python",
   "name": "python3"
  },
  "language_info": {
   "codemirror_mode": {
    "name": "ipython",
    "version": 3
   },
   "file_extension": ".py",
   "mimetype": "text/x-python",
   "name": "python",
   "nbconvert_exporter": "python",
   "pygments_lexer": "ipython3",
   "version": "3.10.14"
  }
 },
 "nbformat": 4,
 "nbformat_minor": 2
}
